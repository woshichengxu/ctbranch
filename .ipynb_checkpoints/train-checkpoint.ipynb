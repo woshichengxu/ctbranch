{
 "cells": [
  {
   "cell_type": "code",
   "execution_count": 1,
   "id": "4ba21db2",
   "metadata": {},
   "outputs": [
    {
     "name": "stderr",
     "output_type": "stream",
     "text": [
      "C:\\Users\\ASUS\\.conda\\envs\\py370\\lib\\site-packages\\tqdm\\auto.py:21: TqdmWarning: IProgress not found. Please update jupyter and ipywidgets. See https://ipywidgets.readthedocs.io/en/stable/user_install.html\n",
      "  from .autonotebook import tqdm as notebook_tqdm\n"
     ]
    }
   ],
   "source": [
    "import torch.optim as optim\n",
    "import torch\n",
    "import torch.nn as nn\n",
    "import torch.nn.parallel\n",
    "import torch.optim"
   ]
  },
  {
   "cell_type": "code",
   "execution_count": null,
   "id": "8bead6c4",
   "metadata": {},
   "outputs": [],
   "source": [
    "import torch.utils.data\n",
    "import torch.utils.data.distributed"
   ]
  },
  {
   "cell_type": "code",
   "execution_count": null,
   "id": "7bfbdb3d",
   "metadata": {},
   "outputs": [],
   "source": [
    "import torchvision.transforms as transforms"
   ]
  },
  {
   "cell_type": "code",
   "execution_count": null,
   "id": "53e7ff1f",
   "metadata": {},
   "outputs": [],
   "source": [
    "import torchvision.datasets as datasets\n",
    "import torchvision.models"
   ]
  },
  {
   "cell_type": "code",
   "execution_count": null,
   "id": "5e8d125a",
   "metadata": {},
   "outputs": [],
   "source": [
    "from torch.autograd import Variable\n",
    "from tqdm import tqdm\n",
    "import os\n",
    "from PIL import Image\n",
    "import cv2"
   ]
  },
  {
   "cell_type": "code",
   "execution_count": null,
   "id": "8ac08781",
   "metadata": {},
   "outputs": [],
   "source": [
    "from torch.optim.lr_scheduler import StepLR\n",
    "\n",
    "# from setting import parse_opts\n",
    "from setting_CT_test import parse_opts\n",
    "#from datasets.brains18 import BrainS18Dataset\n",
    "from CT_preprocessing import CTDataset\n",
    "from model import generate_model\n",
    "import torch\n",
    "import numpy as np\n",
    "from torch import nn\n",
    "from torch import optim\n",
    "from torch.optim import lr_scheduler, optimizer\n",
    "from torch.utils.data import DataLoader\n",
    "import time\n",
    "from utils.logger import log\n",
    "from scipy import ndimage\n",
    "import os\n",
    "import matplotlib.pyplot as plt\n",
    "from test_CT import test\n",
    "\n",
    "import torch.nn.functional as F\n",
    "import matplotlib.pyplot as plt"
   ]
  },
  {
   "cell_type": "code",
   "execution_count": null,
   "id": "c7d15d66",
   "metadata": {},
   "outputs": [],
   "source": [
    "#判断环境是CPU运行还是GPU\n",
    "DEVICE = torch.device('cuda' if torch.cuda.is_available() else 'cpu')\n",
    "DEVICE"
   ]
  },
  {
   "cell_type": "code",
   "execution_count": null,
   "id": "6b05013f",
   "metadata": {},
   "outputs": [],
   "source": [
    "training_dataset = CTDataset(sets.data_root, sets.img_list, sets, phase='train')\n",
    "test_dataset = CTDataset(sets.data_root_test, sets.img_list_test, sets, phase='test')"
   ]
  },
  {
   "cell_type": "code",
   "execution_count": null,
   "id": "6b35e466",
   "metadata": {},
   "outputs": [],
   "source": [
    "# 删除隐藏文件/文件夹\n",
    "for root, dirs, files in os.walk('./猫狗dataset'):\n",
    "    for file in files:\n",
    "        if 'ipynb_checkpoints' in file:\n",
    "            os.remove(os.path.join(root, file))\n",
    "    if 'ipynb_checkpoints' in root:\n",
    "        shutil.rmtree(root)"
   ]
  },
  {
   "cell_type": "code",
   "execution_count": null,
   "id": "d789d085",
   "metadata": {},
   "outputs": [],
   "source": [
    "data_loader = DataLoader(training_dataset, batch_size=sets.batch_size, shuffle=True, num_workers=sets.num_workers,\n",
    "                             pin_memory=sets.pin_memory)\n",
    "print(dataset_train.imgs)#这个要修改，看怎么输出\n",
    "test_data_loader = DataLoader(test_dataset, batch_size=sets.batch_size, shuffle=False,\n",
    "                                  num_workers=sets.num_workers_test, pin_memory=sets.pin_memory)\n",
    "print(dataset_test.class_to_idx)"
   ]
  },
  {
   "cell_type": "code",
   "execution_count": null,
   "id": "6b7d4846",
   "metadata": {},
   "outputs": [],
   "source": [
    "import shutil\n",
    "modellr = 1e-3\n",
    "BATCH_SIZE = 64\n",
    "EPOCHS = 100\n",
    "#注意这个地方根parse冲突了"
   ]
  },
  {
   "cell_type": "code",
   "execution_count": null,
   "id": "1b3c0844",
   "metadata": {},
   "outputs": [],
   "source": [
    "batch_size = 32\n",
    "num_classes = 4"
   ]
  },
  {
   "cell_type": "code",
   "execution_count": null,
   "id": "0d23b83a",
   "metadata": {},
   "outputs": [],
   "source": [
    "dataset = './猫狗dataset'\n",
    "train_directory = os.path.join(dataset, 'train')\n",
    "valid_directory = os.path.join(dataset, 'val')\n",
    "print(train_directory)\n",
    "print(valid_directory)"
   ]
  },
  {
   "cell_type": "code",
   "execution_count": null,
   "id": "0ff7da10",
   "metadata": {},
   "outputs": [],
   "source": [
    "data = {\n",
    "    'train': datasets.ImageFolder(root=train_directory, transform=transform111['train']),\n",
    "    'val': datasets.ImageFolder(root=valid_directory, transform=transform111['val'])\n",
    "}\n",
    "print(data)\n",
    "#感觉这段不一定需要"
   ]
  },
  {
   "cell_type": "code",
   "execution_count": null,
   "id": "6b80584d",
   "metadata": {},
   "outputs": [],
   "source": [
    "train_data_size = len(data['train'])\n",
    "valid_data_size = len(data['val'])\n",
    "print(train_data_size, valid_data_size)"
   ]
  },
  {
   "cell_type": "code",
   "execution_count": null,
   "id": "ddad83c8",
   "metadata": {},
   "outputs": [],
   "source": [
    "model = torchvision.models.resnet50(pretrained=False)#不使用训练好的预训练模型\n",
    "model\n",
    "\n",
    "torch.manual_seed(sets.manual_seed)\n",
    "model, parameters = generate_model(sets)\n",
    "print(model)\n"
   ]
  },
  {
   "cell_type": "code",
   "execution_count": null,
   "id": "6d93db39",
   "metadata": {},
   "outputs": [],
   "source": [
    "criterion = nn.CrossEntropyLoss() #交叉熵损失函数\n",
    "num_ftrs = model.fc.in_features"
   ]
  },
  {
   "cell_type": "code",
   "execution_count": null,
   "id": "38566e2f",
   "metadata": {},
   "outputs": [],
   "source": [
    "# model.fc = nn.Linear(num_ftrs, 10)\n",
    "model.fc = nn.Sequential(\n",
    "    nn.Linear(num_ftrs, 256),\n",
    "    nn.ReLU(),\n",
    "    nn.Dropout(0.4),\n",
    "    nn.Linear(256, 2),\n",
    "    nn.LogSoftmax(dim=1)\n",
    ")"
   ]
  },
  {
   "cell_type": "code",
   "execution_count": null,
   "id": "3ff9d1fe",
   "metadata": {},
   "outputs": [],
   "source": [
    "device=torch.device('cuda')\n",
    "model.to(DEVICE)"
   ]
  },
  {
   "cell_type": "code",
   "execution_count": null,
   "id": "7f87ee54",
   "metadata": {},
   "outputs": [],
   "source": [
    "# 选择简单暴力的Adam优化器，学习率调低\n",
    "optimizer = optim.Adam(model.parameters(), lr=modellr)\n",
    "\n",
    "def adjust_learning_rate(optimizer, epoch):\n",
    "    modellrnew = modellr * (0.1 ** (epoch // 50))\n",
    "    print(\"lr:\", modellrnew)\n",
    "    for param_group in optimizer.param_groups:\n",
    "        param_group['lr'] = modellrnew"
   ]
  },
  {
   "cell_type": "code",
   "execution_count": null,
   "id": "35672b6f",
   "metadata": {},
   "outputs": [],
   "source": [
    "def train(model, device, train_loader, optimizer, epoch):\n",
    "    model.train()\n",
    "    sum_loss = 0\n",
    "    train_acc = 0\n",
    "    total_num = len(train_loader.dataset)\n",
    "    print(total_num, len(train_loader))\n",
    "    for batch_idx, (data, target) in enumerate(tqdm(train_loader)):\n",
    "        data, target = Variable(data).to(device), Variable(target).to(device)\n",
    "        im = Variable(data)\n",
    "        output = model(data)\n",
    "        loss = criterion(output, target)\n",
    "        optimizer.zero_grad()\n",
    "        loss.backward()\n",
    "        optimizer.step()\n",
    "        print_loss = loss.data.item()\n",
    "        sum_loss += print_loss\n",
    "        \n",
    "        out_t = output.argmax(dim=1) #取出预测的最大值\n",
    "        num_correct = (out_t == target).sum().item()\n",
    "        acc = num_correct / im.shape[0]\n",
    "        train_acc += acc\n",
    "        \n",
    "        if (batch_idx + 1) % 50 == 0:\n",
    "            print('Train Epoch: {} [{}/{} ({:.0f}%)]\\tLoss: {:.6f}'.format(\n",
    "                epoch, (batch_idx + 1) * len(data), len(train_loader.dataset),\n",
    "                       100. * (batch_idx + 1) / len(train_loader), loss.item()))\n",
    "            \n",
    "    ave_loss = sum_loss / len(train_loader)\n",
    "    ave_acc = train_acc / len(train_loader)\n",
    "    print('epoch:{}, train_acc: {}, loss:{}'.format(epoch, ave_acc, ave_loss))\n",
    "    return ave_acc, ave_loss"
   ]
  },
  {
   "cell_type": "code",
   "execution_count": null,
   "id": "aab3a2db",
   "metadata": {},
   "outputs": [],
   "source": [
    "# 定义训练过程\n",
    "\n",
    "def val(model, device, test_loader):\n",
    "    model.eval()\n",
    "    test_loss = 0\n",
    "    correct = 0\n",
    "    total_num = len(test_loader.dataset)\n",
    "    # print(total_num, len(test_loader))\n",
    "    with torch.no_grad():\n",
    "        for data, target in test_loader:\n",
    "            data, target = Variable(data).to(device), Variable(target).to(device)\n",
    "            output = model(data)\n",
    "            loss = criterion(output, target)\n",
    "            _, pred = torch.max(output.data, 1)\n",
    "            correct += torch.sum(pred == target)\n",
    "            print_loss = loss.data.item()\n",
    "            test_loss += print_loss\n",
    "        correct = correct.data.item()\n",
    "        acc = correct / total_num\n",
    "        avgloss = test_loss / len(test_loader)\n",
    "        print('Val set: Average loss: {:.4f}, Accuracy: {}/{} ({:.0f}%)\\n'.format(\n",
    "            avgloss, correct, len(test_loader.dataset), 100 * acc))\n",
    "    return acc, avgloss\n"
   ]
  },
  {
   "cell_type": "code",
   "execution_count": null,
   "id": "9d264b55",
   "metadata": {},
   "outputs": [],
   "source": [
    "#在此处增加五折\n",
    "train_acc_list, train_loss_list, val_acc_list, val_loss_list = [], [], [], []\n",
    "\n",
    "for epoch in range(1, EPOCHS + 1):\n",
    "    adjust_learning_rate(optimizer, epoch)\n",
    "    train_acc, train_loss = train(model, DEVICE, train_loader, optimizer, epoch)\n",
    "    val_acc, val_loss = val(model, DEVICE, test_loader)\n",
    "    train_acc_list.append(train_acc)\n",
    "    val_acc_list.append(val_acc)\n",
    "    train_loss_list.append(train_loss)\n",
    "    val_loss_list.append(val_loss)\n",
    "torch.save(model, 'model.pth')"
   ]
  },
  {
   "cell_type": "code",
   "execution_count": null,
   "id": "409663b4",
   "metadata": {},
   "outputs": [],
   "source": [
    "import matplotlib.pyplot as plt\n",
    "\n",
    "epochs_range = range(EPOCHS)\n",
    "print(epochs_range, train_acc_list)\n",
    "\n",
    "plt.figure(figsize=(12, 4))\n",
    "plt.subplot(1, 2, 1)\n",
    "plt.plot(epochs_range, train_acc_list, label='Training Accuracy')\n",
    "plt.plot(epochs_range, val_acc_list, label='Validation Accuracy')\n",
    "plt.legend(loc='lower right')\n",
    "plt.title('Training and Validation Accuracy')\n",
    "\n",
    "plt.subplot(1, 2, 2)\n",
    "plt.plot(epochs_range, train_loss_list, label='Training Loss')\n",
    "plt.plot(epochs_range, val_loss_list, label='Validation Loss')\n",
    "plt.legend(loc='upper right')\n",
    "plt.title('Training and Validation Loss')\n",
    "plt.savefig('./acc-loss.jpg')"
   ]
  },
  {
   "cell_type": "code",
   "execution_count": null,
   "id": "c01d8144",
   "metadata": {},
   "outputs": [],
   "source": [
    "import torch.utils.data.distributed\n",
    "import torchvision.transforms as transforms\n",
    "import torchvision.datasets as datasets\n",
    "from torch.autograd import Variable\n",
    "from pathlib import Path\n",
    "\n",
    "classes = ('cat', 'dog')\n",
    "transform_test = transforms.Compose([\n",
    "    transforms.Resize((224, 224)),\n",
    "    transforms.ToTensor(),      \n",
    "    transforms.Normalize([0.5, 0.5, 0.5], [0.5, 0.5, 0.5])\n",
    "])\n",
    "\n",
    "DEVICE = torch.device(\"cuda:0\" if torch.cuda.is_available() else \"cpu\")\n",
    "model = torch.load(\"model.pth\")\n",
    "model.eval()\n",
    "model.to(DEVICE)\n",
    "\n",
    "dataset_test = datasets.ImageFolder('猫狗dataset/test', transform_test)\n",
    "print(len(dataset_test))\n",
    "# 对应文件夹的label\n",
    "\n",
    "y_true, y_sore = [], []\n",
    "for index in range(len(dataset_test)):\n",
    "    item = dataset_test[index]\n",
    "    img, label = item\n",
    "    img.unsqueeze_(0)\n",
    "    data = Variable(img).to(DEVICE)\n",
    "    output = model(data)\n",
    "    _, pred = torch.max(output.data, 1)\n",
    "    y_true.append(label)\n",
    "    y_sore.append(pred.data.item())\n",
    "    print('Image Name:{}, label:{}, predict:{}'.format(dataset_test.imgs[index][0], classes[label], classes[pred.data.item()]))\n",
    "    index += 1\n"
   ]
  }
 ],
 "metadata": {
  "kernelspec": {
   "display_name": "py370",
   "language": "python",
   "name": "py370"
  },
  "language_info": {
   "codemirror_mode": {
    "name": "ipython",
    "version": 3
   },
   "file_extension": ".py",
   "mimetype": "text/x-python",
   "name": "python",
   "nbconvert_exporter": "python",
   "pygments_lexer": "ipython3",
   "version": "3.7.0"
  }
 },
 "nbformat": 4,
 "nbformat_minor": 5
}
